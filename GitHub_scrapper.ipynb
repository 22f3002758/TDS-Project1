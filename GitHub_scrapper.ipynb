{
  "nbformat": 4,
  "nbformat_minor": 0,
  "metadata": {
    "colab": {
      "provenance": []
    },
    "kernelspec": {
      "name": "python3",
      "display_name": "Python 3"
    },
    "language_info": {
      "name": "python"
    }
  },
  "cells": [
    {
      "cell_type": "markdown",
      "source": [
        "# Data Scarping"
      ],
      "metadata": {
        "id": "w_Bf4lQ1oWuE"
      }
    },
    {
      "cell_type": "code",
      "source": [
        "import requests\n",
        "import pandas as pd\n",
        "import time\n",
        "import logging\n",
        "from typing import List, Dict, Optional\n",
        "\n",
        "class GitHubScraper:\n",
        "    def __init__(self, token: str):\n",
        "        \"\"\"\n",
        "        Initializes GitHub API access with the provided token.\n",
        "\n",
        "        Args:\n",
        "            token (str): GitHub Personal Access Token.\n",
        "        \"\"\"\n",
        "        self.auth_headers = {\n",
        "            'Authorization': f'Bearer {token}',\n",
        "            'Accept': 'application/vnd.github.v3+json'\n",
        "        }\n",
        "        self.base_api_url = 'https://api.github.com'\n",
        "\n",
        "        # Set up logging for process tracking\n",
        "        logging.basicConfig(level=logging.INFO, format='%(asctime)s - %(levelname)s - %(message)s')\n",
        "        self.logger = logging.getLogger(self.__class__.__name__)\n",
        "\n",
        "    def request_data(self, endpoint: str, query_params: Optional[Dict] = None) -> Optional[Dict]:\n",
        "        \"\"\"\n",
        "        Handle requests with retry logic for GitHub's rate limits.\n",
        "\n",
        "        Args:\n",
        "            endpoint (str): API endpoint URL.\n",
        "            query_params (dict, optional): Parameters for GET request.\n",
        "\n",
        "        Returns:\n",
        "            dict or None: Parsed JSON response, or None on error.\n",
        "        \"\"\"\n",
        "        while True:\n",
        "            response = requests.get(endpoint, headers=self.auth_headers, params=query_params)\n",
        "            if response.ok:\n",
        "                return response.json()\n",
        "            elif response.status_code == 403:\n",
        "                reset_time = int(response.headers.get('X-RateLimit-Reset', time.time()))\n",
        "                wait_time = max(reset_time - int(time.time()), 0) + 1\n",
        "                self.logger.warning(f\"Rate limit exceeded. Waiting for {wait_time} seconds.\")\n",
        "                time.sleep(wait_time)\n",
        "            else:\n",
        "                self.logger.error(f\"Request failed: {response.status_code} - {response.text}\")\n",
        "                return None\n",
        "\n",
        "    def normalize_company_name(self, company_name: Optional[str]) -> str:\n",
        "        \"\"\"\n",
        "        Normalize company name by removing '@' and capitalizing it.\n",
        "\n",
        "        Args:\n",
        "            company_name (str): Original company name.\n",
        "\n",
        "        Returns:\n",
        "            str: Normalized company name.\n",
        "        \"\"\"\n",
        "        if not company_name:\n",
        "            return \"\"\n",
        "        return company_name.strip('@').upper()\n",
        "\n",
        "    def find_users(self, location: str, min_followers: int) -> List[Dict]:\n",
        "        \"\"\"\n",
        "        Find GitHub users by location and minimum follower count.\n",
        "\n",
        "        Args:\n",
        "            location (str): Search location.\n",
        "            min_followers (int): Minimum follower threshold.\n",
        "\n",
        "        Returns:\n",
        "            list[dict]: List of user data dictionaries.\n",
        "        \"\"\"\n",
        "        users_found, current_page = [], 1\n",
        "        search_url = f\"{self.base_api_url}/search/users\"\n",
        "\n",
        "        while True:\n",
        "            self.logger.info(f\"Searching users, page {current_page}\")\n",
        "            params = {'q': f\"location:{location} followers:>{min_followers}\", 'per_page': 100, 'page': current_page}\n",
        "            result = self.request_data(search_url, params)\n",
        "\n",
        "            if not result or 'items' not in result:\n",
        "                break\n",
        "\n",
        "            for user in result['items']:\n",
        "                user_detail = self.request_data(user['url'])\n",
        "                if user_detail:\n",
        "                    users_found.append({\n",
        "                        'login': user_detail.get('login', ''),\n",
        "                        'name': user_detail.get('name', ''),\n",
        "                        'company': self.normalize_company_name(user_detail.get('company')),\n",
        "                        'location': user_detail.get('location', ''),\n",
        "                        'email': user_detail.get('email', ''),\n",
        "                        'hireable': user_detail.get('hireable', False),\n",
        "                        'bio': user_detail.get('bio', ''),\n",
        "                        'public_repos': user_detail.get('public_repos', 0),\n",
        "                        'followers': user_detail.get('followers', 0),\n",
        "                        'following': user_detail.get('following', 0),\n",
        "                        'created_at': user_detail.get('created_at', '')\n",
        "                    })\n",
        "\n",
        "            if len(result['items']) < 100:\n",
        "                break\n",
        "            current_page += 1\n",
        "\n",
        "        return users_found\n",
        "\n",
        "    def fetch_user_repos(self, username: str, limit: int = 500) -> List[Dict]:\n",
        "        \"\"\"\n",
        "        Fetch a user's repositories.\n",
        "\n",
        "        Args:\n",
        "            username (str): GitHub username.\n",
        "            limit (int, optional): Max number of repos to fetch.\n",
        "\n",
        "        Returns:\n",
        "            list[dict]: List of repository data dictionaries.\n",
        "        \"\"\"\n",
        "        user_repos, page = [], 1\n",
        "        repo_url = f\"{self.base_api_url}/users/{username}/repos\"\n",
        "\n",
        "        while len(user_repos) < limit:\n",
        "            self.logger.info(f\"Fetching repositories for {username}, page {page}\")\n",
        "            params = {'sort': 'pushed', 'direction': 'desc', 'per_page': 100, 'page': page}\n",
        "            repositories = self.request_data(repo_url, params)\n",
        "\n",
        "            if not repositories:\n",
        "                break\n",
        "\n",
        "            for repo in repositories:\n",
        "                if len(user_repos) >= limit:\n",
        "                    break\n",
        "                user_repos.append({\n",
        "                    'login': username,\n",
        "                    'full_name': repo.get('full_name', ''),\n",
        "                    'created_at': repo.get('created_at', ''),\n",
        "                    'stargazers_count': repo.get('stargazers_count', 0),\n",
        "                    'watchers_count': repo.get('watchers_count', 0),\n",
        "                    'language': repo.get('language', ''),\n",
        "                    'has_projects': repo.get('has_projects', False),\n",
        "                    'has_wiki': repo.get('has_wiki', False),\n",
        "                    'license_name': repo.get('license', {}).get('key', '') if repo.get('license') else ''\n",
        "                })\n",
        "\n",
        "            if len(repositories) < 100:\n",
        "                break\n",
        "            page += 1\n",
        "\n",
        "        return user_repos\n",
        "\n",
        "def main():\n",
        "    # Prompt for GitHub token\n",
        "    token = input(\"Please provide your GitHub token: \").strip()\n",
        "    if not token:\n",
        "        print(\"Token required to proceed.\")\n",
        "        return\n",
        "\n",
        "    scraper = GitHubScraper(token)\n",
        "    # Prompt for location\n",
        "    location = input(\"Please provide the location(make sure to give correct spelling): \").strip()\n",
        "    if not location:\n",
        "        print(\"Location required to proceed.\")\n",
        "        return\n",
        "    #Prompt for followers\n",
        "    min_followers = int(input(\"Please provide the minimum number of followers: \").strip())\n",
        "    if not min_followers:\n",
        "        print(\"Minimum followers required to proceed.\")\n",
        "        return\n",
        "    # Search for users in Beijing with >500 followers\n",
        "    users = scraper.find_users(location, min_followers)\n",
        "    users_df = pd.DataFrame(users)\n",
        "    users_df.to_csv('users.csv', index=False)\n",
        "\n",
        "    # Gather repositories for each user found\n",
        "    all_repositories = []\n",
        "    for user in users:\n",
        "        repos = scraper.fetch_user_repos(user['login'])\n",
        "        all_repositories.extend(repos)\n",
        "\n",
        "    repos_df = pd.DataFrame(all_repositories)\n",
        "    repos_df.to_csv('repositories.csv', index=False)\n",
        "\n",
        "    print(f\"Collected {len(users)} users and {len(all_repositories)} repositories.\")\n",
        "\n",
        "if __name__ == \"__main__\":\n",
        "    main()\n"
      ],
      "metadata": {
        "id": "tqVE21YA3Af0"
      },
      "execution_count": null,
      "outputs": []
    },
    {
      "cell_type": "markdown",
      "source": [
        "# Data Cleaning"
      ],
      "metadata": {
        "id": "A1HhMDwnzOWN"
      }
    },
    {
      "cell_type": "code",
      "source": [
        "import pandas as pd\n",
        "import numpy as np"
      ],
      "metadata": {
        "id": "JKI4JjC4oYG3"
      },
      "execution_count": 1,
      "outputs": []
    },
    {
      "cell_type": "code",
      "source": [
        "users=pd.read_csv('/content/users.csv')\n",
        "repos=pd.read_csv(\"/content/repositories.csv\")"
      ],
      "metadata": {
        "id": "1bhBZZMeoqbg"
      },
      "execution_count": 2,
      "outputs": []
    },
    {
      "cell_type": "code",
      "source": [
        "users['hireable']=users['hireable'].replace({True:'true',np.nan:''})\n",
        "users.replace(np.nan,'',inplace=True)\n",
        "users.to_csv('/content/users.csv',index=False)"
      ],
      "metadata": {
        "id": "OIirowAZXZNE"
      },
      "execution_count": 62,
      "outputs": []
    },
    {
      "cell_type": "code",
      "source": [
        "repos.replace(np.nan,'',inplace=True)\n",
        "repos[['has_projects', 'has_wiki']] = repos[['has_projects', 'has_wiki']].replace({True: 'true', False: 'false'})\n",
        "repos.to_csv('/content/repositories.csv',index=False)"
      ],
      "metadata": {
        "id": "InN3EDVdcNur"
      },
      "execution_count": 50,
      "outputs": []
    },
    {
      "cell_type": "markdown",
      "source": [
        "# Assignment"
      ],
      "metadata": {
        "id": "faPUisTWzk8S"
      }
    },
    {
      "cell_type": "markdown",
      "source": [
        "#Ques 1"
      ],
      "metadata": {
        "id": "4uGhTNFEovbT"
      }
    },
    {
      "cell_type": "code",
      "source": [
        "sorted_users = users.sort_values('followers', ascending=False )\n",
        "\",\".join(sorted_users[\"login\"].iloc[:5].tolist())"
      ],
      "metadata": {
        "colab": {
          "base_uri": "https://localhost:8080/",
          "height": 36
        },
        "id": "UzADxP7CpO9J",
        "outputId": "e7f00f92-59d7-4f34-f06f-f1b7bcfed442"
      },
      "execution_count": 12,
      "outputs": [
        {
          "output_type": "execute_result",
          "data": {
            "text/plain": [
              "'michaelliao,daimajia,xiaolai,draveness,hongyangAndroid'"
            ],
            "application/vnd.google.colaboratory.intrinsic+json": {
              "type": "string"
            }
          },
          "metadata": {},
          "execution_count": 12
        }
      ]
    },
    {
      "cell_type": "markdown",
      "source": [
        "#Ques2"
      ],
      "metadata": {
        "id": "QUUJktu5poef"
      }
    },
    {
      "cell_type": "code",
      "source": [
        "sorted_users = users.sort_values('created_at')\n",
        "\",\".join(sorted_users[\"login\"].iloc[:5].tolist())"
      ],
      "metadata": {
        "colab": {
          "base_uri": "https://localhost:8080/",
          "height": 36
        },
        "id": "vAK1jFr0pr4W",
        "outputId": "eda57b90-b72d-4cde-e9d6-0229c0263ed7"
      },
      "execution_count": 14,
      "outputs": [
        {
          "output_type": "execute_result",
          "data": {
            "text/plain": [
              "'robin,nwind,reeze,kejun,ZhangHanDong'"
            ],
            "application/vnd.google.colaboratory.intrinsic+json": {
              "type": "string"
            }
          },
          "metadata": {},
          "execution_count": 14
        }
      ]
    },
    {
      "cell_type": "markdown",
      "source": [
        "#Ques3"
      ],
      "metadata": {
        "id": "XUc2dfdhpEGH"
      }
    },
    {
      "cell_type": "code",
      "source": [
        "users_with_licenses = repos.dropna(subset=['license_name'])\n",
        "license_counts = users_with_licenses['license_name'].value_counts()\n",
        "top_3_licenses = license_counts.nlargest(3).index.tolist()\n",
        "\n",
        "print(','.join(top_3_licenses))"
      ],
      "metadata": {
        "colab": {
          "base_uri": "https://localhost:8080/"
        },
        "id": "I7fZGElzvHDO",
        "outputId": "6eac6779-35ee-4f3e-d148-d336a8e00d55"
      },
      "execution_count": null,
      "outputs": [
        {
          "output_type": "stream",
          "name": "stdout",
          "text": [
            "mit,apache-2.0,other\n"
          ]
        }
      ]
    },
    {
      "cell_type": "markdown",
      "source": [
        "#Ques4"
      ],
      "metadata": {
        "id": "xtLs8UPrrWKr"
      }
    },
    {
      "cell_type": "code",
      "source": [
        "top_comp=users[\"company\"].value_counts(dropna=False).index\n",
        "top_comp[1]"
      ],
      "metadata": {
        "colab": {
          "base_uri": "https://localhost:8080/",
          "height": 36
        },
        "id": "zeoA5BJ-rXmu",
        "outputId": "892fbce9-2a6f-497d-c82b-4c258ebe9f22"
      },
      "execution_count": 21,
      "outputs": [
        {
          "output_type": "execute_result",
          "data": {
            "text/plain": [
              "'BYTEDANCE'"
            ],
            "application/vnd.google.colaboratory.intrinsic+json": {
              "type": "string"
            }
          },
          "metadata": {},
          "execution_count": 21
        }
      ]
    },
    {
      "cell_type": "markdown",
      "source": [
        "#Ques5"
      ],
      "metadata": {
        "id": "LW33mGeIr41-"
      }
    },
    {
      "cell_type": "code",
      "source": [
        "repos['language'].value_counts(dropna=False).index[1]\n"
      ],
      "metadata": {
        "colab": {
          "base_uri": "https://localhost:8080/",
          "height": 36
        },
        "id": "WaBPFYPrNFRH",
        "outputId": "68383fa5-ced3-495b-c63c-1075b34e6539"
      },
      "execution_count": 23,
      "outputs": [
        {
          "output_type": "execute_result",
          "data": {
            "text/plain": [
              "'JavaScript'"
            ],
            "application/vnd.google.colaboratory.intrinsic+json": {
              "type": "string"
            }
          },
          "metadata": {},
          "execution_count": 23
        }
      ]
    },
    {
      "cell_type": "markdown",
      "source": [
        "#Ques6"
      ],
      "metadata": {
        "id": "SREP2KfCsDIJ"
      }
    },
    {
      "cell_type": "code",
      "source": [
        "users['created_at']=pd.to_datetime(users['created_at'])\n",
        "after2020=users[users['created_at'].dt.year > 2019]\n",
        "repos[repos['login'].isin(after2020['login'])]['language'].value_counts(dropna=False).index[2]"
      ],
      "metadata": {
        "id": "RHNCobN-OOs7",
        "colab": {
          "base_uri": "https://localhost:8080/",
          "height": 36
        },
        "outputId": "d995c89d-1163-4048-da19-2709f21e9764"
      },
      "execution_count": 26,
      "outputs": [
        {
          "output_type": "execute_result",
          "data": {
            "text/plain": [
              "'JavaScript'"
            ],
            "application/vnd.google.colaboratory.intrinsic+json": {
              "type": "string"
            }
          },
          "metadata": {},
          "execution_count": 26
        }
      ]
    },
    {
      "cell_type": "markdown",
      "source": [
        "#Ques7"
      ],
      "metadata": {
        "id": "G_94guPltGBW"
      }
    },
    {
      "cell_type": "code",
      "source": [
        "language_avg_stars = repos.groupby('language')['stargazers_count'].mean()\n",
        "highest_avg_stars_language = language_avg_stars.idxmax()\n",
        "highest_avg_stars_language"
      ],
      "metadata": {
        "colab": {
          "base_uri": "https://localhost:8080/",
          "height": 36
        },
        "id": "uarQHkJ1OgwY",
        "outputId": "869cef17-458c-4f27-a539-c53eb4596298"
      },
      "execution_count": 27,
      "outputs": [
        {
          "output_type": "execute_result",
          "data": {
            "text/plain": [
              "'Jinja'"
            ],
            "application/vnd.google.colaboratory.intrinsic+json": {
              "type": "string"
            }
          },
          "metadata": {},
          "execution_count": 27
        }
      ]
    },
    {
      "cell_type": "markdown",
      "source": [
        "#Ques8"
      ],
      "metadata": {
        "id": "eWu0oML3tR_D"
      }
    },
    {
      "cell_type": "code",
      "source": [
        "users['user_strength']=users['followers'].div(1+users['following'])\n",
        "\",\".join(users.iloc[users['user_strength'].nlargest(5).index]['login'].tolist())"
      ],
      "metadata": {
        "id": "crD_A8ueSja9",
        "colab": {
          "base_uri": "https://localhost:8080/",
          "height": 36
        },
        "outputId": "fa354e57-8253-4c68-bcb8-3766a9e0949a"
      },
      "execution_count": 31,
      "outputs": [
        {
          "output_type": "execute_result",
          "data": {
            "text/plain": [
              "'michaelliao,ityouknow,liuhuanyong,thunlp,shenghy'"
            ],
            "application/vnd.google.colaboratory.intrinsic+json": {
              "type": "string"
            }
          },
          "metadata": {},
          "execution_count": 31
        }
      ]
    },
    {
      "cell_type": "markdown",
      "source": [
        "#Ques9"
      ],
      "metadata": {
        "id": "MzvHF64eSxOU"
      }
    },
    {
      "cell_type": "code",
      "source": [
        "cor=users[['followers','public_repos']].corr()\n",
        "cor"
      ],
      "metadata": {
        "colab": {
          "base_uri": "https://localhost:8080/",
          "height": 125
        },
        "id": "uLHlz9SXTeSR",
        "outputId": "4f6a85a2-6edf-458e-cb2b-3f80ae2dd91f"
      },
      "execution_count": 37,
      "outputs": [
        {
          "output_type": "execute_result",
          "data": {
            "text/plain": [
              "              followers  public_repos\n",
              "followers      1.000000      0.032852\n",
              "public_repos   0.032852      1.000000"
            ],
            "text/html": [
              "\n",
              "  <div id=\"df-c9466273-e498-4fa5-a26a-1c811ae07bd3\" class=\"colab-df-container\">\n",
              "    <div>\n",
              "<style scoped>\n",
              "    .dataframe tbody tr th:only-of-type {\n",
              "        vertical-align: middle;\n",
              "    }\n",
              "\n",
              "    .dataframe tbody tr th {\n",
              "        vertical-align: top;\n",
              "    }\n",
              "\n",
              "    .dataframe thead th {\n",
              "        text-align: right;\n",
              "    }\n",
              "</style>\n",
              "<table border=\"1\" class=\"dataframe\">\n",
              "  <thead>\n",
              "    <tr style=\"text-align: right;\">\n",
              "      <th></th>\n",
              "      <th>followers</th>\n",
              "      <th>public_repos</th>\n",
              "    </tr>\n",
              "  </thead>\n",
              "  <tbody>\n",
              "    <tr>\n",
              "      <th>followers</th>\n",
              "      <td>1.000000</td>\n",
              "      <td>0.032852</td>\n",
              "    </tr>\n",
              "    <tr>\n",
              "      <th>public_repos</th>\n",
              "      <td>0.032852</td>\n",
              "      <td>1.000000</td>\n",
              "    </tr>\n",
              "  </tbody>\n",
              "</table>\n",
              "</div>\n",
              "    <div class=\"colab-df-buttons\">\n",
              "\n",
              "  <div class=\"colab-df-container\">\n",
              "    <button class=\"colab-df-convert\" onclick=\"convertToInteractive('df-c9466273-e498-4fa5-a26a-1c811ae07bd3')\"\n",
              "            title=\"Convert this dataframe to an interactive table.\"\n",
              "            style=\"display:none;\">\n",
              "\n",
              "  <svg xmlns=\"http://www.w3.org/2000/svg\" height=\"24px\" viewBox=\"0 -960 960 960\">\n",
              "    <path d=\"M120-120v-720h720v720H120Zm60-500h600v-160H180v160Zm220 220h160v-160H400v160Zm0 220h160v-160H400v160ZM180-400h160v-160H180v160Zm440 0h160v-160H620v160ZM180-180h160v-160H180v160Zm440 0h160v-160H620v160Z\"/>\n",
              "  </svg>\n",
              "    </button>\n",
              "\n",
              "  <style>\n",
              "    .colab-df-container {\n",
              "      display:flex;\n",
              "      gap: 12px;\n",
              "    }\n",
              "\n",
              "    .colab-df-convert {\n",
              "      background-color: #E8F0FE;\n",
              "      border: none;\n",
              "      border-radius: 50%;\n",
              "      cursor: pointer;\n",
              "      display: none;\n",
              "      fill: #1967D2;\n",
              "      height: 32px;\n",
              "      padding: 0 0 0 0;\n",
              "      width: 32px;\n",
              "    }\n",
              "\n",
              "    .colab-df-convert:hover {\n",
              "      background-color: #E2EBFA;\n",
              "      box-shadow: 0px 1px 2px rgba(60, 64, 67, 0.3), 0px 1px 3px 1px rgba(60, 64, 67, 0.15);\n",
              "      fill: #174EA6;\n",
              "    }\n",
              "\n",
              "    .colab-df-buttons div {\n",
              "      margin-bottom: 4px;\n",
              "    }\n",
              "\n",
              "    [theme=dark] .colab-df-convert {\n",
              "      background-color: #3B4455;\n",
              "      fill: #D2E3FC;\n",
              "    }\n",
              "\n",
              "    [theme=dark] .colab-df-convert:hover {\n",
              "      background-color: #434B5C;\n",
              "      box-shadow: 0px 1px 3px 1px rgba(0, 0, 0, 0.15);\n",
              "      filter: drop-shadow(0px 1px 2px rgba(0, 0, 0, 0.3));\n",
              "      fill: #FFFFFF;\n",
              "    }\n",
              "  </style>\n",
              "\n",
              "    <script>\n",
              "      const buttonEl =\n",
              "        document.querySelector('#df-c9466273-e498-4fa5-a26a-1c811ae07bd3 button.colab-df-convert');\n",
              "      buttonEl.style.display =\n",
              "        google.colab.kernel.accessAllowed ? 'block' : 'none';\n",
              "\n",
              "      async function convertToInteractive(key) {\n",
              "        const element = document.querySelector('#df-c9466273-e498-4fa5-a26a-1c811ae07bd3');\n",
              "        const dataTable =\n",
              "          await google.colab.kernel.invokeFunction('convertToInteractive',\n",
              "                                                    [key], {});\n",
              "        if (!dataTable) return;\n",
              "\n",
              "        const docLinkHtml = 'Like what you see? Visit the ' +\n",
              "          '<a target=\"_blank\" href=https://colab.research.google.com/notebooks/data_table.ipynb>data table notebook</a>'\n",
              "          + ' to learn more about interactive tables.';\n",
              "        element.innerHTML = '';\n",
              "        dataTable['output_type'] = 'display_data';\n",
              "        await google.colab.output.renderOutput(dataTable, element);\n",
              "        const docLink = document.createElement('div');\n",
              "        docLink.innerHTML = docLinkHtml;\n",
              "        element.appendChild(docLink);\n",
              "      }\n",
              "    </script>\n",
              "  </div>\n",
              "\n",
              "\n",
              "<div id=\"df-6cbb0e3e-f8e7-4066-b0b9-b7445feb9bd6\">\n",
              "  <button class=\"colab-df-quickchart\" onclick=\"quickchart('df-6cbb0e3e-f8e7-4066-b0b9-b7445feb9bd6')\"\n",
              "            title=\"Suggest charts\"\n",
              "            style=\"display:none;\">\n",
              "\n",
              "<svg xmlns=\"http://www.w3.org/2000/svg\" height=\"24px\"viewBox=\"0 0 24 24\"\n",
              "     width=\"24px\">\n",
              "    <g>\n",
              "        <path d=\"M19 3H5c-1.1 0-2 .9-2 2v14c0 1.1.9 2 2 2h14c1.1 0 2-.9 2-2V5c0-1.1-.9-2-2-2zM9 17H7v-7h2v7zm4 0h-2V7h2v10zm4 0h-2v-4h2v4z\"/>\n",
              "    </g>\n",
              "</svg>\n",
              "  </button>\n",
              "\n",
              "<style>\n",
              "  .colab-df-quickchart {\n",
              "      --bg-color: #E8F0FE;\n",
              "      --fill-color: #1967D2;\n",
              "      --hover-bg-color: #E2EBFA;\n",
              "      --hover-fill-color: #174EA6;\n",
              "      --disabled-fill-color: #AAA;\n",
              "      --disabled-bg-color: #DDD;\n",
              "  }\n",
              "\n",
              "  [theme=dark] .colab-df-quickchart {\n",
              "      --bg-color: #3B4455;\n",
              "      --fill-color: #D2E3FC;\n",
              "      --hover-bg-color: #434B5C;\n",
              "      --hover-fill-color: #FFFFFF;\n",
              "      --disabled-bg-color: #3B4455;\n",
              "      --disabled-fill-color: #666;\n",
              "  }\n",
              "\n",
              "  .colab-df-quickchart {\n",
              "    background-color: var(--bg-color);\n",
              "    border: none;\n",
              "    border-radius: 50%;\n",
              "    cursor: pointer;\n",
              "    display: none;\n",
              "    fill: var(--fill-color);\n",
              "    height: 32px;\n",
              "    padding: 0;\n",
              "    width: 32px;\n",
              "  }\n",
              "\n",
              "  .colab-df-quickchart:hover {\n",
              "    background-color: var(--hover-bg-color);\n",
              "    box-shadow: 0 1px 2px rgba(60, 64, 67, 0.3), 0 1px 3px 1px rgba(60, 64, 67, 0.15);\n",
              "    fill: var(--button-hover-fill-color);\n",
              "  }\n",
              "\n",
              "  .colab-df-quickchart-complete:disabled,\n",
              "  .colab-df-quickchart-complete:disabled:hover {\n",
              "    background-color: var(--disabled-bg-color);\n",
              "    fill: var(--disabled-fill-color);\n",
              "    box-shadow: none;\n",
              "  }\n",
              "\n",
              "  .colab-df-spinner {\n",
              "    border: 2px solid var(--fill-color);\n",
              "    border-color: transparent;\n",
              "    border-bottom-color: var(--fill-color);\n",
              "    animation:\n",
              "      spin 1s steps(1) infinite;\n",
              "  }\n",
              "\n",
              "  @keyframes spin {\n",
              "    0% {\n",
              "      border-color: transparent;\n",
              "      border-bottom-color: var(--fill-color);\n",
              "      border-left-color: var(--fill-color);\n",
              "    }\n",
              "    20% {\n",
              "      border-color: transparent;\n",
              "      border-left-color: var(--fill-color);\n",
              "      border-top-color: var(--fill-color);\n",
              "    }\n",
              "    30% {\n",
              "      border-color: transparent;\n",
              "      border-left-color: var(--fill-color);\n",
              "      border-top-color: var(--fill-color);\n",
              "      border-right-color: var(--fill-color);\n",
              "    }\n",
              "    40% {\n",
              "      border-color: transparent;\n",
              "      border-right-color: var(--fill-color);\n",
              "      border-top-color: var(--fill-color);\n",
              "    }\n",
              "    60% {\n",
              "      border-color: transparent;\n",
              "      border-right-color: var(--fill-color);\n",
              "    }\n",
              "    80% {\n",
              "      border-color: transparent;\n",
              "      border-right-color: var(--fill-color);\n",
              "      border-bottom-color: var(--fill-color);\n",
              "    }\n",
              "    90% {\n",
              "      border-color: transparent;\n",
              "      border-bottom-color: var(--fill-color);\n",
              "    }\n",
              "  }\n",
              "</style>\n",
              "\n",
              "  <script>\n",
              "    async function quickchart(key) {\n",
              "      const quickchartButtonEl =\n",
              "        document.querySelector('#' + key + ' button');\n",
              "      quickchartButtonEl.disabled = true;  // To prevent multiple clicks.\n",
              "      quickchartButtonEl.classList.add('colab-df-spinner');\n",
              "      try {\n",
              "        const charts = await google.colab.kernel.invokeFunction(\n",
              "            'suggestCharts', [key], {});\n",
              "      } catch (error) {\n",
              "        console.error('Error during call to suggestCharts:', error);\n",
              "      }\n",
              "      quickchartButtonEl.classList.remove('colab-df-spinner');\n",
              "      quickchartButtonEl.classList.add('colab-df-quickchart-complete');\n",
              "    }\n",
              "    (() => {\n",
              "      let quickchartButtonEl =\n",
              "        document.querySelector('#df-6cbb0e3e-f8e7-4066-b0b9-b7445feb9bd6 button');\n",
              "      quickchartButtonEl.style.display =\n",
              "        google.colab.kernel.accessAllowed ? 'block' : 'none';\n",
              "    })();\n",
              "  </script>\n",
              "</div>\n",
              "\n",
              "  <div id=\"id_404d4e88-0c34-4be5-984c-c5952fe0421c\">\n",
              "    <style>\n",
              "      .colab-df-generate {\n",
              "        background-color: #E8F0FE;\n",
              "        border: none;\n",
              "        border-radius: 50%;\n",
              "        cursor: pointer;\n",
              "        display: none;\n",
              "        fill: #1967D2;\n",
              "        height: 32px;\n",
              "        padding: 0 0 0 0;\n",
              "        width: 32px;\n",
              "      }\n",
              "\n",
              "      .colab-df-generate:hover {\n",
              "        background-color: #E2EBFA;\n",
              "        box-shadow: 0px 1px 2px rgba(60, 64, 67, 0.3), 0px 1px 3px 1px rgba(60, 64, 67, 0.15);\n",
              "        fill: #174EA6;\n",
              "      }\n",
              "\n",
              "      [theme=dark] .colab-df-generate {\n",
              "        background-color: #3B4455;\n",
              "        fill: #D2E3FC;\n",
              "      }\n",
              "\n",
              "      [theme=dark] .colab-df-generate:hover {\n",
              "        background-color: #434B5C;\n",
              "        box-shadow: 0px 1px 3px 1px rgba(0, 0, 0, 0.15);\n",
              "        filter: drop-shadow(0px 1px 2px rgba(0, 0, 0, 0.3));\n",
              "        fill: #FFFFFF;\n",
              "      }\n",
              "    </style>\n",
              "    <button class=\"colab-df-generate\" onclick=\"generateWithVariable('cor')\"\n",
              "            title=\"Generate code using this dataframe.\"\n",
              "            style=\"display:none;\">\n",
              "\n",
              "  <svg xmlns=\"http://www.w3.org/2000/svg\" height=\"24px\"viewBox=\"0 0 24 24\"\n",
              "       width=\"24px\">\n",
              "    <path d=\"M7,19H8.4L18.45,9,17,7.55,7,17.6ZM5,21V16.75L18.45,3.32a2,2,0,0,1,2.83,0l1.4,1.43a1.91,1.91,0,0,1,.58,1.4,1.91,1.91,0,0,1-.58,1.4L9.25,21ZM18.45,9,17,7.55Zm-12,3A5.31,5.31,0,0,0,4.9,8.1,5.31,5.31,0,0,0,1,6.5,5.31,5.31,0,0,0,4.9,4.9,5.31,5.31,0,0,0,6.5,1,5.31,5.31,0,0,0,8.1,4.9,5.31,5.31,0,0,0,12,6.5,5.46,5.46,0,0,0,6.5,12Z\"/>\n",
              "  </svg>\n",
              "    </button>\n",
              "    <script>\n",
              "      (() => {\n",
              "      const buttonEl =\n",
              "        document.querySelector('#id_404d4e88-0c34-4be5-984c-c5952fe0421c button.colab-df-generate');\n",
              "      buttonEl.style.display =\n",
              "        google.colab.kernel.accessAllowed ? 'block' : 'none';\n",
              "\n",
              "      buttonEl.onclick = () => {\n",
              "        google.colab.notebook.generateWithVariable('cor');\n",
              "      }\n",
              "      })();\n",
              "    </script>\n",
              "  </div>\n",
              "\n",
              "    </div>\n",
              "  </div>\n"
            ],
            "application/vnd.google.colaboratory.intrinsic+json": {
              "type": "dataframe",
              "variable_name": "cor",
              "summary": "{\n  \"name\": \"cor\",\n  \"rows\": 2,\n  \"fields\": [\n    {\n      \"column\": \"followers\",\n      \"properties\": {\n        \"dtype\": \"number\",\n        \"std\": 0.6838768904351581,\n        \"min\": 0.0328520265530603,\n        \"max\": 1.0,\n        \"num_unique_values\": 2,\n        \"samples\": [\n          0.0328520265530603,\n          1.0\n        ],\n        \"semantic_type\": \"\",\n        \"description\": \"\"\n      }\n    },\n    {\n      \"column\": \"public_repos\",\n      \"properties\": {\n        \"dtype\": \"number\",\n        \"std\": 0.6838768904351581,\n        \"min\": 0.0328520265530603,\n        \"max\": 1.0,\n        \"num_unique_values\": 2,\n        \"samples\": [\n          1.0,\n          0.0328520265530603\n        ],\n        \"semantic_type\": \"\",\n        \"description\": \"\"\n      }\n    }\n  ]\n}"
            }
          },
          "metadata": {},
          "execution_count": 37
        }
      ]
    },
    {
      "cell_type": "code",
      "source": [
        "cor['followers']['public_repos'].round(3)"
      ],
      "metadata": {
        "colab": {
          "base_uri": "https://localhost:8080/"
        },
        "id": "hQjtbRvBVZH_",
        "outputId": "d52df5c4-9c9a-4a56-f864-8bbec467bdb2"
      },
      "execution_count": 36,
      "outputs": [
        {
          "output_type": "execute_result",
          "data": {
            "text/plain": [
              "0.033"
            ]
          },
          "metadata": {},
          "execution_count": 36
        }
      ]
    },
    {
      "cell_type": "markdown",
      "source": [
        "#Ques10"
      ],
      "metadata": {
        "id": "_zxZjizZuc_U"
      }
    },
    {
      "cell_type": "code",
      "source": [
        "import statsmodels.formula.api as sm\n",
        "\n",
        "model = sm.ols('followers ~ public_repos', data=users).fit()\n",
        "\n",
        "additional_followers_per_repo = model.params['public_repos']\n",
        "\n",
        "additional_followers_per_repo.round(3)"
      ],
      "metadata": {
        "colab": {
          "base_uri": "https://localhost:8080/"
        },
        "id": "lSfLMGV-VmGP",
        "outputId": "ef8d3566-7c39-4236-e867-325ba96c7835"
      },
      "execution_count": 40,
      "outputs": [
        {
          "output_type": "execute_result",
          "data": {
            "text/plain": [
              "0.655"
            ]
          },
          "metadata": {},
          "execution_count": 40
        }
      ]
    },
    {
      "cell_type": "markdown",
      "source": [
        "Ques11"
      ],
      "metadata": {
        "id": "eAfwmw68uxJQ"
      }
    },
    {
      "cell_type": "code",
      "source": [
        "has_projects=repos['has_projects'].map({'true':1,'false':0})\n",
        "has_wiki=repos['has_wiki'].map({'true':1,'false':0})\n",
        "cor=has_projects.corr(has_wiki)\n",
        "cor.round(3)\n"
      ],
      "metadata": {
        "colab": {
          "base_uri": "https://localhost:8080/"
        },
        "id": "eIsT33Q-zDjO",
        "outputId": "7712d7fa-4897-4251-b3a2-9ca6114d93c0"
      },
      "execution_count": 45,
      "outputs": [
        {
          "output_type": "execute_result",
          "data": {
            "text/plain": [
              "0.28"
            ]
          },
          "metadata": {},
          "execution_count": 45
        }
      ]
    },
    {
      "cell_type": "markdown",
      "source": [
        "#Ques12"
      ],
      "metadata": {
        "id": "pASq_Js4vjFm"
      }
    },
    {
      "cell_type": "code",
      "source": [
        "avg_following_hireable = users[users['hireable'] =='true']['following'].mean()\n",
        "avg_following_non_hireable = users[users['hireable']!='true']['following'].mean()\n",
        "difference = avg_following_hireable - avg_following_non_hireable\n",
        "difference.round(3)"
      ],
      "metadata": {
        "colab": {
          "base_uri": "https://localhost:8080/"
        },
        "id": "0gpUfg9VXGmG",
        "outputId": "266dadab-da71-41df-bea5-1e93e1597cef"
      },
      "execution_count": 54,
      "outputs": [
        {
          "output_type": "execute_result",
          "data": {
            "text/plain": [
              "149.609"
            ]
          },
          "metadata": {},
          "execution_count": 54
        }
      ]
    },
    {
      "cell_type": "markdown",
      "source": [
        "#Ques13"
      ],
      "metadata": {
        "id": "Ob37d4OWwdJW"
      }
    },
    {
      "cell_type": "code",
      "source": [
        "users['bio_word_count'] = users['bio'].fillna('').str.split().str.len()\n",
        "users_with_bios = users[users['bio_word_count'] > 0]\n",
        "correlation = users_with_bios['bio_word_count'].corr(users_with_bios['followers'])\n",
        "model = sm.ols('followers ~ bio_word_count', data=users_with_bios).fit()\n",
        "slope = model.params['bio_word_count']\n",
        "\n",
        "slope.round(3)"
      ],
      "metadata": {
        "colab": {
          "base_uri": "https://localhost:8080/"
        },
        "id": "EkeP32XGXv_c",
        "outputId": "1b9c61a0-8c8b-4a57-e0f3-aa8965584dca"
      },
      "execution_count": 55,
      "outputs": [
        {
          "output_type": "execute_result",
          "data": {
            "text/plain": [
              "-11.846"
            ]
          },
          "metadata": {},
          "execution_count": 55
        }
      ]
    },
    {
      "cell_type": "markdown",
      "source": [
        "#Ques14"
      ],
      "metadata": {
        "id": "AHj5mtnUwsAf"
      }
    },
    {
      "cell_type": "code",
      "source": [
        "top5=repos[pd.to_datetime(repos['created_at']).dt.dayofweek.isin([5,6])]['login'].value_counts().nlargest(5).index\n",
        "','.join(top5)"
      ],
      "metadata": {
        "colab": {
          "base_uri": "https://localhost:8080/",
          "height": 36
        },
        "id": "eTh5ryzEfDgR",
        "outputId": "7cf6e925-12ba-4f54-fdc0-344f37faf96c"
      },
      "execution_count": 56,
      "outputs": [
        {
          "output_type": "execute_result",
          "data": {
            "text/plain": [
              "'LinuxSuRen,zhufengnodejs,i5ting,mozillazg,hailiang-wang'"
            ],
            "application/vnd.google.colaboratory.intrinsic+json": {
              "type": "string"
            }
          },
          "metadata": {},
          "execution_count": 56
        }
      ]
    },
    {
      "cell_type": "markdown",
      "source": [
        "#Ques15"
      ],
      "metadata": {
        "id": "bfQor0Pkw2Om"
      }
    },
    {
      "cell_type": "code",
      "source": [
        "\n",
        "hireable_users = users[users['hireable'] == 'true']\n",
        "fraction_email_hireable = np.mean(hireable_users['email'] != '')\n",
        "\n",
        "non_hireable_users = users[users['hireable'] != 'true']\n",
        "fraction_email_non_hireable = np.mean(non_hireable_users['email'] != '')\n",
        "difference = fraction_email_hireable - fraction_email_non_hireable\n",
        "print(round(difference, 3))"
      ],
      "metadata": {
        "colab": {
          "base_uri": "https://localhost:8080/"
        },
        "id": "QYNstySxx2_-",
        "outputId": "9852333b-1955-44a6-c487-d773e8521f21"
      },
      "execution_count": 64,
      "outputs": [
        {
          "output_type": "stream",
          "name": "stdout",
          "text": [
            "0.063\n"
          ]
        }
      ]
    },
    {
      "cell_type": "markdown",
      "source": [
        "#Ques16"
      ],
      "metadata": {
        "id": "Prm9s3LdxV9A"
      }
    },
    {
      "cell_type": "code",
      "source": [
        "\n",
        "users['surname'] = users['name'].str.strip().str.split().str[-1]\n",
        "surname_counts = users['surname'].value_counts()\n",
        "max_count = surname_counts.max()\n",
        "most_common_surnames = surname_counts[surname_counts == max_count].index.tolist()\n",
        "most_common_surnames.sort()\n",
        "print(','.join(most_common_surnames))\n",
        "\n",
        "\n"
      ],
      "metadata": {
        "colab": {
          "base_uri": "https://localhost:8080/"
        },
        "id": "tqZCmnbPguyz",
        "outputId": "540f1701-7826-4b2b-e919-e3f79aeb7969"
      },
      "execution_count": 66,
      "outputs": [
        {
          "output_type": "stream",
          "name": "stdout",
          "text": [
            "Zhang\n"
          ]
        }
      ]
    },
    {
      "cell_type": "markdown",
      "source": [
        "# Answers"
      ],
      "metadata": {
        "id": "HxLAueJqzCPT"
      }
    },
    {
      "cell_type": "code",
      "source": [
        "#1 michaelliao,daimajia,xiaolai,draveness,hongyangAndroid\n",
        "#2 robin,nwind,reeze,kejun,ZhangHanDong\n",
        "#3 mit,apache-2.0,other\n",
        "#4 BYTEDANCE\n",
        "#5 JavaScript\n",
        "#6 JavaScript\n",
        "#7 Jinja\n",
        "#8 michaelliao,ityouknow,liuhuanyong,thunlp,shenghy\n",
        "#9 0.033\n",
        "#10 0.655\n",
        "#11 0.280\n",
        "#12 149.609\n",
        "#13 -11.846\n",
        "#14 LinuxSuRen,zhufengnodejs,i5ting,mozillazg,hailiang-wang\n",
        "#15 0.063\n",
        "#16 Zhang"
      ],
      "metadata": {
        "id": "v6iUzmTULfnv"
      },
      "execution_count": null,
      "outputs": []
    }
  ]
}